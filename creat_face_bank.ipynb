{
 "cells": [
  {
   "cell_type": "code",
   "execution_count": 1,
   "metadata": {},
   "outputs": [],
   "source": [
    "import os\n",
    "import cv2\n",
    "import matplotlib.pyplot as plt\n",
    "import numpy as np\n",
    "from insightface.app import FaceAnalysis"
   ]
  },
  {
   "cell_type": "markdown",
   "metadata": {},
   "source": [
    "## Create face bank"
   ]
  },
  {
   "cell_type": "code",
   "execution_count": null,
   "metadata": {},
   "outputs": [],
   "source": [
    "app = FaceAnalysis(name=\"buffalo_s\",providers=['CPUExecutionProvider'])\n",
    "app.prepare(ctx_id=0,det_size=(640,640))"
   ]
  },
  
   ],
   "source": [
    "face_bank_path = \"./face_bank\"\n",
    "face_bank = []\n",
    "for person_name in os.listdir(face_bank_path):\n",
    "    file_path = os.path.join(face_bank_path,person_name)\n",
    "    if os.path.isdir(file_path):\n",
    "        for image_name in os.listdir(file_path):\n",
    "            if image_name != \".DS_Store\":\n",
    "                image_path = os.path.join(file_path,image_name)\n",
    "                image  = cv2.imread(image_path)\n",
    "                image = cv2.cvtColor(image,cv2.COLOR_BGR2RGB)\n",
    "                result = app.get(image)\n",
    "\n",
    "                if len(result) > 1:\n",
    "                    print(\"no\")\n",
    "                    continue\n",
    "                embedding = result[0][\"embedding\"]\n",
    "                my_dict = {\"name\":person_name , \"embedding\":embedding}\n",
    "                face_bank.append(my_dict)\n",
    "print(face_bank)\n",
    "np.save(\"face_bank.npy\", face_bank)                "
   ]
  }
 ],
 "metadata": {
  "kernelspec": {
   "display_name": "Python 3",
   "language": "python",
   "name": "python3"
  },
  "language_info": {
   "codemirror_mode": {
    "name": "ipython",
    "version": 3
   },
   "file_extension": ".py",
   "mimetype": "text/x-python",
   "name": "python",
   "nbconvert_exporter": "python",
   "pygments_lexer": "ipython3",
   "version": "3.10.12"
  },
  "orig_nbformat": 4
 },
 "nbformat": 4,
 "nbformat_minor": 2
}
